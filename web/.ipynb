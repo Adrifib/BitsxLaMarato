{
 "cells": [
  {
   "metadata": {},
   "cell_type": "markdown",
   "source": [
    "SUPABASE_URL=https://supdrzpdynaekvysaeio.supabase.co\n",
    "SUPABASE_KEY=eyJhbGciOiJIUzI1NiIsInR5cCI6IkpXVCJ9.eyJpc3Mi"
   ],
   "id": "36c4c5a602ac652a"
  }
 ],
 "metadata": {
  "kernelspec": {
   "display_name": "Python 3",
   "language": "python",
   "name": "python3"
  },
  "language_info": {
   "codemirror_mode": {
    "name": "ipython",
    "version": 2
   },
   "file_extension": ".py",
   "mimetype": "text/x-python",
   "name": "python",
   "nbconvert_exporter": "python",
   "pygments_lexer": "ipython2",
   "version": "2.7.6"
  }
 },
 "nbformat": 4,
 "nbformat_minor": 5
}
